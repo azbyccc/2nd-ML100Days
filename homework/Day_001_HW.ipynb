{
 "cells": [
  {
   "cell_type": "markdown",
   "metadata": {},
   "source": [
    "## 作業1：\n",
    "\n",
    "#### 請上 Kaggle, 在 Competitions 或 Dataset 中找一組競賽或資料並寫下：\n",
    "\n",
    "#### 選擇資料：FIFA 19 complete player dataset\n",
    "\n",
    "#### 1. 你選的這組資料為何重要\n",
    "##### Ans：可以從資料中了解球員比賽相關數據以及其他參數間的關係，進而提出改善球員表現的訓練方式等等\n",
    "\n",
    "#### 2. 資料從何而來 (tips: 譬如提供者是誰、以什麼方式蒐集)\n",
    "##### Ans：https://sofifa.com/\n",
    "\n",
    "#### 3. 蒐集而來的資料型態為何\n",
    "##### Ans：結構化資料(表格)\n",
    "\n",
    "#### 4. 這組資料想解決的問題如何評估\n",
    "##### Ans：透過回歸方法等相關性分析去探討球員表現（得分、評級、潛力等）與其他特徵（攻守位置、薪資、上場時間等）之間的關係"
   ]
  },
  {
   "cell_type": "markdown",
   "metadata": {},
   "source": [
    "## 作業2：\n",
    "\n",
    "#### 想像你經營一個自由載客車隊，你希望能透過數據分析以提升業績，請你思考並描述你如何規劃整體的分析/解決方案：\n",
    "##### Ans：設立研究目標>數據蒐集>資料處理>假設情境>相關性分析>結論與建議\n",
    "\n",
    "#### 1. 核心問題為何 (tips：如何定義 「提升業績 & 你的假設」)\n",
    "##### Ans：\n",
    "    1.定義業績：年度淨利、年度營收\n",
    "    2.研究假設：\n",
    "        a.所有紀錄確實\n",
    "        b.研究的變數與業績有相關\n",
    "#### 2. 資料從何而來 (tips：哪些資料可能會對你想問的問題產生影響 & 資料如何蒐集)\n",
    "##### Ans：\n",
    "    1.進行資料分群(服務地區、工作時段)：由車上記錄設備(上下車地圖記錄、時間紀錄)取得\n",
    "    2.司機工作時數：由車上記錄設備取得(上班時間可分為載客時數以及等候時數)\n",
    "    3.司機年度薪資：由公司薪酬紀錄取得\n",
    "    4.司機年齡：司機基本資料\n",
    "    5.乘客回饋(由手機APP提供乘客回饋)：\n",
    "        a.滿意程度\n",
    "        b.客群分析(年齡、職業)\n",
    "    6.行銷方案：提供優惠方式(實際減免金額)\n",
    "\n",
    "#### 3. 蒐集而來的資料型態為何\n",
    "##### Ans：結構化資料\n",
    "\n",
    "#### 4. 你要回答的問題，其如何評估 (tips：你的假設如何驗證)\n",
    "##### Ans：\n",
    "    1.對於記錄方式定期抽檢\n",
    "    2.對於變數與業績做相關分析\n",
    "    "
   ]
  },
  {
   "cell_type": "markdown",
   "metadata": {},
   "source": [
    "## 作業3：\n",
    "## 練習時間\n",
    "#### 請寫一個函式用來計算 Mean Square Error\n",
    "$ MSE = \\frac{1}{n}\\sum_{i=1}^{n}{(Y_i - \\hat{Y}_i)^2} $\n",
    "\n",
    "### Hint: [如何取平方](https://googoodesign.gitbooks.io/-ezpython/unit-1.html)"
   ]
  },
  {
   "cell_type": "code",
   "execution_count": 16,
   "metadata": {},
   "outputs": [],
   "source": [
    "import numpy as np\n",
    "import matplotlib.pyplot as plt"
   ]
  },
  {
   "cell_type": "code",
   "execution_count": 22,
   "metadata": {},
   "outputs": [],
   "source": [
    "def mean_squared_error(y,y_hat):\n",
    "    \"\"\"\n",
    "    請完成這個 Function 後往下執行\n",
    "    \"\"\"\n",
    "    mse = MSE = sum((y-y_hat)**2)/len(y)\n",
    "    return mse"
   ]
  },
  {
   "cell_type": "code",
   "execution_count": 18,
   "metadata": {},
   "outputs": [
    {
     "name": "stdout",
     "output_type": "stream",
     "text": [
      "The Mean absolute error is 12.540\n"
     ]
    }
   ],
   "source": [
    "def mean_absolute_error(y, y_hat):\n",
    "    \"\"\"\n",
    "    計算 MAE\n",
    "    Args:\n",
    "        - y: 實際值\n",
    "        - yp: 預測值\n",
    "    Return:\n",
    "        - mae: MAE\n",
    "    \"\"\"\n",
    "    mae = MAE = sum(abs(y - y_hat)) / len(y)\n",
    "    return mae\n",
    "\n",
    "MAE = mean_absolute_error(y, y_hat)\n",
    "print(\"The Mean absolute error is %.3f\" % (MAE))"
   ]
  },
  {
   "cell_type": "code",
   "execution_count": 19,
   "metadata": {},
   "outputs": [
    {
     "data": {
      "image/png": "[encoded data removed]",
      "text/plain": [
       "<Figure size 432x288 with 1 Axes>"
      ]
     },
     "metadata": {
      "needs_background": "light"
     },
     "output_type": "display_data"
    }
   ],
   "source": [
    "w = 3\n",
    "b = 0.5\n",
    "\n",
    "x_lin = np.linspace(0, 100, 101)\n",
    "\n",
    "y = (x_lin + np.random.randn(101) * 5) * w + b\n",
    "\n",
    "plt.plot(x_lin, y, 'b.', label = 'data points')\n",
    "plt.title(\"Assume we have data points\")\n",
    "plt.legend(loc = 2)\n",
    "plt.show()"
   ]
  },
  {
   "cell_type": "code",
   "execution_count": 20,
   "metadata": {},
   "outputs": [
    {
     "data": {
      "image/png": "[encoded data removed]",
      "text/plain": [
       "<Figure size 432x288 with 1 Axes>"
      ]
     },
     "metadata": {
      "needs_background": "light"
     },
     "output_type": "display_data"
    }
   ],
   "source": [
    "y_hat = x_lin * w + b\n",
    "plt.plot(x_lin, y, 'b.', label = 'data')\n",
    "plt.plot(x_lin, y_hat, 'r-', label = 'prediction')\n",
    "plt.title(\"Assume we have data points (And the prediction)\")\n",
    "plt.legend(loc = 2)\n",
    "plt.show()"
   ]
  },
  {
   "cell_type": "code",
   "execution_count": 23,
   "metadata": {},
   "outputs": [
    {
     "name": "stdout",
     "output_type": "stream",
     "text": [
      "The Mean squared error is 279.391\n",
      "The Mean absolute error is 13.322\n"
     ]
    }
   ],
   "source": [
    "# 執行 Function, 確認有沒有正常執行\n",
    "MSE = mean_squared_error(y, y_hat)\n",
    "MAE = mean_absolute_error(y, y_hat)\n",
    "print(\"The Mean squared error is %.3f\" % (MSE))\n",
    "print(\"The Mean absolute error is %.3f\" % (MAE))"
   ]
  }
 ],
 "metadata": {
  "anaconda-cloud": {},
  "kernelspec": {
   "display_name": "Python 3",
   "language": "python",
   "name": "python3"
  },
  "language_info": {
   "codemirror_mode": {
    "name": "ipython",
    "version": 3
   },
   "file_extension": ".py",
   "mimetype": "text/x-python",
   "name": "python",
   "nbconvert_exporter": "python",
   "pygments_lexer": "ipython3",
   "version": "3.7.3"
  }
 },
 "nbformat": 4,
 "nbformat_minor": 1
}
